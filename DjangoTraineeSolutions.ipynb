{
 "cells": [
  {
   "cell_type": "markdown",
   "metadata": {},
   "source": [
    "### Question 1 : Django Signals, executed synchoneous or asynchroneous   \n",
    "\n",
    "Answer : Django signals are executed synchroneuously by default."
   ]
  },
  {
   "cell_type": "code",
   "execution_count": null,
   "metadata": {},
   "outputs": [],
   "source": [
    "from django.db import models\n",
    "\n",
    "class MyModel(models.Model):\n",
    "    name = models.charField()\n",
    "\n",
    "\n",
    "from django.dispatch import receiver\n",
    "from django.db.models.signals import post_save\n",
    "\n",
    "#save event signal handler\n",
    "@receiver(post_save,sender=MyModel)\n",
    "def signal_handler(sender,instance):\n",
    "    print(\"Signal handler started\")\n",
    "    print(\"...\")\n",
    "    print(\"Signal handler finished\")\n",
    "\n",
    "\n",
    "#simulating a save event\n",
    "print(\"Saving the object...\")\n",
    "obj = MyModel(name=\"Test OBJ\")\n",
    "obj.save()\n",
    "print(\"Object Saved!\")\n"
   ]
  },
  {
   "cell_type": "markdown",
   "metadata": {},
   "source": [
    "### Question 2 : Django Signals, Same Threads as the caller \n",
    "\n",
    "Answer : Yes, Django Signals run in the same thread as the caller by default."
   ]
  },
  {
   "cell_type": "code",
   "execution_count": null,
   "metadata": {},
   "outputs": [],
   "source": [
    "from django.db import models\n",
    "import threading\n",
    "\n",
    "class MyModel(models.Model):\n",
    "    name = models.charField()\n",
    "\n",
    "\n",
    "from django.dispatch import receiver\n",
    "from django.db.models.signals import post_save\n",
    "\n",
    "#save event signal handler\n",
    "@receiver(post_save,sender=MyModel)\n",
    "def signal_handler(sender,instance):\n",
    "    print(f\"Signal handler started (running on thread {threading.current_thread().name})\")\n",
    "    print(\"...\")\n",
    "    print(\"Signal handler finished\")\n",
    "\n",
    "\n",
    "#simulating a save event\n",
    "print(f\"Saving the object...(running on thread {threading.current_thread().name})\")\n",
    "obj = MyModel(name=\"Test OBJ\")\n",
    "obj.save()\n",
    "print(\"Object Saved!\")\n"
   ]
  },
  {
   "cell_type": "markdown",
   "metadata": {},
   "source": [
    "### Questions 3 : Django Signals, same Database transactions as the caller\n",
    "\n",
    "Answer : Yes, Django Signals run in the same database transaction as the caller by default.\n"
   ]
  },
  {
   "cell_type": "code",
   "execution_count": null,
   "metadata": {},
   "outputs": [],
   "source": [
    "from django.db import models\n",
    "import threading\n",
    "\n",
    "class Person(models.Model):\n",
    "    name = models.charField()\n",
    "    Amt = models.charField()\n",
    "\n",
    "class Txn(models.Model):\n",
    "    p1 = models.charField()\n",
    "    p2 = models.charField()\n",
    "    Amt = models.charField()\n",
    "\n",
    "from django.dispatch import receiver\n",
    "from django.db.models.signals import post_save\n",
    "\n",
    "#save event signal handler\n",
    "@receiver(post_save,sender=Txn)\n",
    "def signal_handler(sender,instance):\n",
    "    print(f\"Signal handler started \")\n",
    "    print(\"updated both accounts with necesary checks..\")\n",
    "    print(\"Signal handler finished\")\n",
    "\n",
    "\n",
    "#simulating a save event\n",
    "p1 = Person(name=\"person1\",Amt=100)\n",
    "p2 = Person(name=\"person2\",Amt=200)\n",
    "print(f\"starting a TXN...\")\n",
    "txn = Txn(p1,p2,50)\n",
    "txn.save()\n",
    "print(\"TXN complete!\")\n"
   ]
  },
  {
   "cell_type": "markdown",
   "metadata": {},
   "source": [
    "### Rectangle Class"
   ]
  },
  {
   "cell_type": "code",
   "execution_count": 1,
   "metadata": {},
   "outputs": [
    {
     "name": "stdout",
     "output_type": "stream",
     "text": [
      "{'length': 10}\n",
      "{'width': 5}\n"
     ]
    }
   ],
   "source": [
    "class Rectangle:\n",
    "    def __init__(self, length: int, width: int):\n",
    "        self.length = length\n",
    "        self.width = width\n",
    "\n",
    "    def __iter__(self):\n",
    "        # Iterator that yields length and width in the required format\n",
    "        yield {'length': self.length}\n",
    "        yield {'width': self.width}\n",
    "\n",
    "# Example\n",
    "rect = Rectangle(10, 5)\n",
    "\n",
    "# Iterating over the instance\n",
    "for dimension in rect:\n",
    "    print(dimension)\n"
   ]
  },
  {
   "cell_type": "code",
   "execution_count": null,
   "metadata": {},
   "outputs": [],
   "source": []
  }
 ],
 "metadata": {
  "kernelspec": {
   "display_name": "venv",
   "language": "python",
   "name": "python3"
  },
  "language_info": {
   "codemirror_mode": {
    "name": "ipython",
    "version": 3
   },
   "file_extension": ".py",
   "mimetype": "text/x-python",
   "name": "python",
   "nbconvert_exporter": "python",
   "pygments_lexer": "ipython3",
   "version": "3.10.0"
  }
 },
 "nbformat": 4,
 "nbformat_minor": 2
}
